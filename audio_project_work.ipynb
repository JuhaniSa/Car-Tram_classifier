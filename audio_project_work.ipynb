{
 "cells": [
  {
   "cell_type": "code",
   "execution_count": 10,
   "id": "b0c96513",
   "metadata": {},
   "outputs": [],
   "source": [
    "import os\n",
    "import sys\n",
    "import pathlib\n",
    "import numpy as np\n",
    "import tensorflow as tf\n",
    "from tensorflow.keras import layers\n",
    "from tensorflow.keras import models\n",
    "from scipy.io.wavfile import read\n",
    "import wave\n",
    "from sklearn.model_selection import train_test_split\n",
    "import librosa\n",
    "from tensorflow.keras.utils import to_categorical\n",
    "from tensorflow.keras import Sequential\n",
    "import sounddevice as sd\n",
    "from scipy.io.wavfile import write\n",
    "import matplotlib.pyplot as plt\n",
    "from keras.models import Model\n",
    "from keras.layers import  Conv1D, GRU, Dropout, Input, Dense, Conv2D, Reshape, MaxPooling2D\n",
    "import random\n",
    "from sklearn.metrics import confusion_matrix\n",
    "from sklearn.metrics import roc_curve\n",
    "from scipy import linalg\n",
    "from pydub import AudioSegment\n",
    "random.seed(111)\n",
    "fs = 16000\n",
    "\n",
    "#D:\\Koulujutut\\audio_project\\training_data\\car\n",
    "#path = pathlib.Path().resolve()\n",
    "#str(path.parents[0])}\n",
    "\n",
    "car_train_data_path = f\"../Project/audio_project_data/training_data/car/\"\n",
    "tram_train_data_path = f\"../Project/audio_project_data/training_data/tram/\"\n",
    "\n",
    "car_val_data_path = f\"../Project/audio_project_data/validation_data/car/\"\n",
    "tram_val_data_path = f\"../Project/audio_project_data/validation_data/tram/\"\n",
    " "
   ]
  },
  {
   "cell_type": "code",
   "execution_count": 11,
   "id": "bfbb41ca",
   "metadata": {},
   "outputs": [],
   "source": [
    "for file in os.listdir(car_train_data_path):\n",
    "        if file.endswith(\".mp3\"):\n",
    "            print(os.path.join(car_train_data_path, file))\n",
    "            audio = AudioSegment.from_mp3(os.path.join(car_train_data_path, file))\n",
    "            wav_file = file.replace(\"mp3\", \"\")\n",
    "            audio.export(os.path.join(car_train_data_path, wav_file), format=\"wav\")\n",
    "\n",
    "for file in os.listdir(tram_train_data_path):\n",
    "    if file.endswith(\".mp3\"):\n",
    "        audio = AudioSegment.from_mp3(os.path.join(tram_train_data_path, file))\n",
    "        wav_file = file.replace(\"mp3\", \"\")\n",
    "        audio.export(os.path.join(tram_train_data_path, wav_file), format=\"wav\")\n",
    "\n",
    "for file in os.listdir(car_val_data_path):\n",
    "    if file.endswith(\".mp3\"):\n",
    "        audio = AudioSegment.from_mp3(os.path.join(car_val_data_path, file))\n",
    "        wav_file = file.replace(\"mp3\", \"\")\n",
    "        audio.export(os.path.join(car_val_data_path, wav_file), format=\"wav\")\n",
    "\n",
    "for file in os.listdir(tram_val_data_path):\n",
    "    if file.endswith(\".mp3\"):\n",
    "        audio = AudioSegment.from_mp3(os.path.join(tram_val_data_path, file))\n",
    "        wav_file = file.replace(\"mp3\", \"\")\n",
    "        audio.export(os.path.join(tram_val_data_path, wav_file), format=\"wav\")\n"
   ]
  },
  {
   "cell_type": "code",
   "execution_count": 12,
   "id": "8b89228a",
   "metadata": {},
   "outputs": [],
   "source": [
    "def spec_augment(spec: np.ndarray, num_mask=2, \n",
    "                 freq_masking_max_percentage=0.10, time_masking_max_percentage=0.10):\n",
    "\n",
    "    spec = spec.copy()\n",
    "    for i in range(num_mask):\n",
    "        all_frames_num, all_freqs_num = spec.shape\n",
    "        freq_percentage = random.uniform(0.0, freq_masking_max_percentage)\n",
    "        \n",
    "        num_freqs_to_mask = int(freq_percentage * all_freqs_num)\n",
    "        f0 = np.random.uniform(low=0.0, high=all_freqs_num - num_freqs_to_mask)\n",
    "        f0 = int(f0)\n",
    "        spec[:, f0:f0 + num_freqs_to_mask] = 0\n",
    "\n",
    "        time_percentage = random.uniform(0.0, time_masking_max_percentage)\n",
    "        \n",
    "        num_frames_to_mask = int(time_percentage * all_frames_num)\n",
    "        t0 = np.random.uniform(low=0.0, high=all_frames_num - num_frames_to_mask)\n",
    "        t0 = int(t0)\n",
    "        spec[t0:t0 + num_frames_to_mask, :] = 0\n",
    "    \n",
    "    return spec\n"
   ]
  },
  {
   "cell_type": "code",
   "execution_count": 13,
   "id": "722f6d52",
   "metadata": {},
   "outputs": [],
   "source": [
    "car_train_data = []\n",
    "tram_train_data = []\n",
    "car_test_data = []\n",
    "tram_test_data = []\n",
    "car_val_data = []\n",
    "tram_val_data = []\n",
    "sample_rate = 16000\n",
    "car_train_data_aug = []\n",
    "tram_train_data_aug = []\n",
    "\n",
    "car_audio = []\n",
    "tram_audio = []\n",
    "#The lenght of longest audio sample is defined here.\n",
    "# For every audio sample zeros are added to make samples to be \n",
    "# in same size.\n",
    "longest_sample = 125611\n",
    "\n",
    "\n",
    "\n",
    "#audio = np.hstack((audio, np.zeros(longest_sample - len(audio))))\n",
    "for car in os.listdir(car_train_data_path):\n",
    "    \n",
    "    audio, fs = librosa.load(os.path.join(car_train_data_path, car), sr=16000)\n",
    "    # if len(audio) > longest_sample:\n",
    "    #     longest_sample = len(audio)\n",
    "    audio = np.hstack((audio, np.zeros(longest_sample - len(audio))))\n",
    "    car_audio.append(audio)\n",
    "    mel_spec = librosa.feature.melspectrogram(y=audio, sr=sample_rate, n_fft=512, hop_length=160, n_mels=48, fmax=8000)\n",
    "    mel_spec_db = librosa.power_to_db(mel_spec, ref=np.max).T\n",
    "    mel_spec_db_norm = (mel_spec_db - np.min(mel_spec_db)) / (np.max(mel_spec_db) - np.min(mel_spec_db))\n",
    "    car_train_data.append(mel_spec_db_norm) \n",
    "    \n",
    "\n",
    "    mel_spec_db = librosa.power_to_db(spec_augment(mel_spec), ref=np.max).T\n",
    "    mel_spec_db_norm = (mel_spec_db - np.min(mel_spec_db)) / (np.max(mel_spec_db) - np.min(mel_spec_db))\n",
    "    car_train_data_aug.append(mel_spec_db_norm) \n",
    "\n",
    "\n",
    "\n",
    "    \n",
    "for car in os.listdir(car_val_data_path):\n",
    "    audio, fs = librosa.load(os.path.join(car_val_data_path, car), sr=16000)\n",
    "    \n",
    "    #if len(audio) > longest_sample:\n",
    "    #    longest_sample = len(audio)\n",
    "    audio = np.hstack((audio, np.zeros(longest_sample - len(audio))))\n",
    "\n",
    "    mel_spec = librosa.feature.melspectrogram(y=audio, sr=sample_rate, n_fft=512, hop_length=160, n_mels=48, fmax=8000)\n",
    "    mel_spec_db = librosa.power_to_db(mel_spec, ref=np.max).T\n",
    "    mel_spec_db_norm = (mel_spec_db - np.min(mel_spec_db)) / (np.max(mel_spec_db) - np.min(mel_spec_db))\n",
    "    car_val_data.append(mel_spec_db_norm) \n",
    "    \n",
    "    \n",
    "    \n",
    "\n",
    "for tram in os.listdir(tram_train_data_path):\n",
    "    audio, fs = librosa.load(os.path.join(tram_train_data_path, tram), sr=16000)    \n",
    "    \n",
    "    # if len(audio) > longest_sample:\n",
    "    #     longest_sample = len(audio)\n",
    "    audio = np.hstack((audio, np.zeros(longest_sample - len(audio))))\n",
    "        \n",
    "    tram_audio.append(audio)\n",
    "    \n",
    "    mel_spec = librosa.feature.melspectrogram(y=audio, sr=sample_rate, n_fft=512, hop_length=160, n_mels=48, fmax=8000)\n",
    "    mel_spec_db = librosa.power_to_db(mel_spec, ref=np.max).T\n",
    "    mel_spec_db_norm = (mel_spec_db - np.min(mel_spec_db)) / (np.max(mel_spec_db) - np.min(mel_spec_db))\n",
    "    tram_train_data.append(mel_spec_db_norm)\n",
    "\n",
    "    \n",
    "    mel_spec_db = librosa.power_to_db(spec_augment(mel_spec), ref=np.max).T\n",
    "    mel_spec_db_norm = (mel_spec_db - np.min(mel_spec_db)) / (np.max(mel_spec_db) - np.min(mel_spec_db))\n",
    "    tram_train_data_aug.append(mel_spec_db_norm) \n",
    "    \n",
    "\n",
    "    \n",
    "for tram in os.listdir(tram_val_data_path):\n",
    "    \n",
    "    audio, fs = librosa.load(os.path.join(tram_val_data_path, tram), sr=16000)\n",
    "    \n",
    "    # if len(audio) > longest_sample:\n",
    "    #    longest_sample = len(audio)\n",
    "    audio = np.hstack((audio, np.zeros(longest_sample - len(audio))))\n",
    "\n",
    "    mel_spec = librosa.feature.melspectrogram(y=audio, sr=sample_rate, n_fft=512, hop_length=160, n_mels=48, fmax=8000)\n",
    "    mel_spec_db = librosa.power_to_db(mel_spec, ref=np.max).T\n",
    "    mel_spec_db_norm = (mel_spec_db - np.min(mel_spec_db)) / (np.max(mel_spec_db) - np.min(mel_spec_db))\n",
    "    tram_val_data.append(mel_spec_db_norm)\n",
    "\n",
    "     \n",
    "\n",
    "\n"
   ]
  },
  {
   "cell_type": "code",
   "execution_count": 14,
   "id": "260f0ac0",
   "metadata": {},
   "outputs": [],
   "source": [
    "def time_shift(audio): \n",
    "    return np.roll(audio,int(sample_rate/(random.randint(2,10)))) \n",
    "\n",
    "\n",
    "\n",
    "for audio_first in car_audio:\n",
    "        audio_shifted = time_shift(audio_first)*random.uniform(0.6, 0.9)\n",
    "        mel_spec = librosa.feature.melspectrogram(y=audio_shifted, sr=sample_rate, n_fft=512, hop_length=160, n_mels=48, fmax=8000)\n",
    "        mel_spec_db = librosa.power_to_db(mel_spec, ref=np.max).T\n",
    "        mel_spec_db_norm = (mel_spec_db - np.min(mel_spec_db)) / (np.max(mel_spec_db) - np.min(mel_spec_db))\n",
    "        car_train_data.append(mel_spec_db_norm) \n",
    "    \n",
    "\n",
    "for audio_first in tram_audio:\n",
    "        audio_shifted = np.add(audio_first, time_shift(audio_first)*random.uniform(0.6, 0.9))\n",
    "        mel_spec = librosa.feature.melspectrogram(y=audio_shifted, sr=sample_rate, n_fft=512, hop_length=160, n_mels=48, fmax=8000)\n",
    "        mel_spec_db = librosa.power_to_db(mel_spec, ref=np.max).T\n",
    "        mel_spec_db_norm = (mel_spec_db - np.min(mel_spec_db)) / (np.max(mel_spec_db) - np.min(mel_spec_db))\n",
    "        tram_train_data.append(mel_spec_db_norm)\n",
    "        \n",
    "\n",
    "car_train_data = car_train_data + car_train_data_aug\n",
    "tram_train_data = tram_train_data + tram_train_data_aug"
   ]
  },
  {
   "cell_type": "code",
   "execution_count": 15,
   "id": "883eae1c",
   "metadata": {},
   "outputs": [
    {
     "name": "stderr",
     "output_type": "stream",
     "text": [
      "/tmp/ipykernel_36721/2080153835.py:9: UserWarning: FixedFormatter should only be used together with FixedLocator\n",
      "  ax.set_xticklabels(x)\n"
     ]
    },
    {
     "data": {
      "image/png": "[encoded data removed]",
      "text/plain": [
       "<Figure size 640x480 with 2 Axes>"
      ]
     },
     "metadata": {},
     "output_type": "display_data"
    }
   ],
   "source": [
    "import librosa.display\n",
    "fig, ax = plt.subplots()\n",
    "x = [\"\",\"0\", \"1\", \"2\", \"3\", \"4\"]\n",
    "\n",
    "img = librosa.display.specshow(np.transpose(car_train_data[1]), x_axis='time',\n",
    "y_axis='mel', sr=16000, fmax=8000, ax=ax)\n",
    "\n",
    "fig.colorbar(img, ax=ax, format='%+2.0f dB')\n",
    "ax.set_xticklabels(x)\n",
    "ax.set(title='Mel-frequency Spectrogram')\n",
    "plt.savefig('mel_spec.png')"
   ]
  },
  {
   "cell_type": "code",
   "execution_count": 16,
   "id": "216a13e9",
   "metadata": {},
   "outputs": [
    {
     "name": "stdout",
     "output_type": "stream",
     "text": [
      "(780, 786, 48)\n",
      "(600, 786, 48)\n",
      "(41, 786, 48)\n",
      "(20, 786, 48)\n"
     ]
    }
   ],
   "source": [
    "print(np.shape(car_train_data))\n",
    "print(np.shape(tram_train_data))\n",
    "print(np.shape(car_val_data))\n",
    "print(np.shape(tram_val_data))\n",
    "\n",
    "car_train_data = np.squeeze(car_train_data)\n",
    "tram_train_data = np.squeeze(tram_train_data)\n",
    "car_val_data = np.squeeze(car_val_data)\n",
    "tram_val_data = np.squeeze(tram_val_data)\n",
    "\n",
    "keyword_labels = np.ones(car_train_data.shape[0])\n",
    "val_pos_labels = np.ones(car_val_data.shape[0])\n",
    "\n",
    "noise_labels = 0*np.ones(tram_train_data.shape[0])\n",
    "val_neg_labels = 0*np.ones(tram_val_data.shape[0])\n",
    "\n",
    "X_train = np.concatenate((car_train_data, tram_train_data), axis=0)\n",
    "y_train  = np.concatenate((keyword_labels, noise_labels), axis=0)\n",
    "\n",
    "X_val = np.concatenate((car_val_data, tram_val_data), axis=0)\n",
    "y_val = np.concatenate((val_pos_labels, val_neg_labels), axis=0)\n",
    "\n",
    "y_train = tf.keras.utils.to_categorical(y_train, 2)\n",
    "y_val = tf.keras.utils.to_categorical(y_val, 2)"
   ]
  },
  {
   "cell_type": "code",
   "execution_count": 17,
   "id": "0df09711",
   "metadata": {},
   "outputs": [
    {
     "name": "stdout",
     "output_type": "stream",
     "text": [
      "Model: \"sequential_1\"\n",
      "_________________________________________________________________\n",
      " Layer (type)                Output Shape              Param #   \n",
      "=================================================================\n",
      " layer1 (Conv1D)             (None, 786, 48)           6960      \n",
      "                                                                 \n",
      " dropout_2 (Dropout)         (None, 786, 48)           0         \n",
      "                                                                 \n",
      " layer2 (Conv1D)             (None, 786, 48)           6960      \n",
      "                                                                 \n",
      " dropout_3 (Dropout)         (None, 786, 48)           0         \n",
      "                                                                 \n",
      " RNN_1 (GRU)                 (None, 48)                14112     \n",
      "                                                                 \n",
      " dense_a (Dense)             (None, 2)                 98        \n",
      "                                                                 \n",
      "=================================================================\n",
      "Total params: 28,130\n",
      "Trainable params: 28,130\n",
      "Non-trainable params: 0\n",
      "_________________________________________________________________\n"
     ]
    }
   ],
   "source": [
    "from keras.backend import manual_variable_initialization \n",
    "manual_variable_initialization(True)\n",
    "\n",
    "num_units = 48\n",
    "dropout_ratio = 0.1\n",
    "checkpoint_filepath = f'../Project/keyword_model_1D_CRNN'\n",
    "checkpoint_dir = os.path.dirname(checkpoint_filepath)\n",
    "\n",
    "my_callbacks = [tf.keras.callbacks.EarlyStopping(monitor='loss', patience=120, mode='min'),\n",
    "                tf.keras.callbacks.ModelCheckpoint(filepath=checkpoint_filepath, save_weights_only=False, \n",
    "                monitor='val_accuracy', mode='max', save_best_only=True),\n",
    "]\n",
    "\n",
    "model = Sequential([\n",
    "    Input(shape=(car_train_data.shape[1], car_train_data.shape[2])),\n",
    "    Conv1D(num_units,3,padding=\"same\",activation='relu',name='layer1'),\n",
    "    Dropout(dropout_ratio),\n",
    "    Conv1D(num_units,3,padding=\"same\",activation='relu',name='layer2'),\n",
    "    Dropout(dropout_ratio),\n",
    "    GRU(num_units,name='RNN_1',return_sequences=False),\n",
    "    Dense(2, activation='softmax', name='dense_a'),\n",
    "])\n",
    "\n",
    "model.compile(loss='BinaryCrossentropy', optimizer=tf.keras.optimizers.Adam(learning_rate=0.0001), metrics=['accuracy'])\n",
    "model.summary()"
   ]
  },
  {
   "cell_type": "code",
   "execution_count": 18,
   "id": "d2c0d2a3",
   "metadata": {},
   "outputs": [
    {
     "name": "stdout",
     "output_type": "stream",
     "text": [
      "Epoch 1/1000\n",
      "345/345 [==============================] - ETA: 0s - loss: 0.6902 - accuracy: 0.5623"
     ]
    }
   ],
   "source": [
    "history = model.fit(X_train, y_train, epochs=1000, batch_size=4, callbacks=my_callbacks, \n",
    "                    validation_data=(X_val, y_val))\n"
   ]
  },
  {
   "cell_type": "code",
   "execution_count": null,
   "id": "556b618d",
   "metadata": {},
   "outputs": [
    {
     "name": "stdout",
     "output_type": "stream",
     "text": [
      "2/2 [==============================] - 0s 27ms/step - loss: 0.6873 - accuracy: 0.6721\n"
     ]
    },
    {
     "data": {
      "text/plain": [
       "[0.6873003840446472, 0.6721311211585999]"
      ]
     },
     "execution_count": 41,
     "metadata": {},
     "output_type": "execute_result"
    }
   ],
   "source": [
    "latest = tf.train.latest_checkpoint(checkpoint_dir)\n",
    "model = tf.keras.Model()\n",
    "#model.load_model(latest)\n",
    "model=tf.keras.models.load_model('../Project/keyword_model_1D_CRNN')\n",
    "\n",
    "model.evaluate(X_val, y_val, batch_size=32)"
   ]
  },
  {
   "cell_type": "code",
   "execution_count": null,
   "id": "2ff2987b",
   "metadata": {},
   "outputs": [
    {
     "name": "stderr",
     "output_type": "stream",
     "text": [
      "/home/juhani/miniconda3/envs/tf/lib/python3.9/site-packages/librosa/util/decorators.py:88: UserWarning: PySoundFile failed. Trying audioread instead.\n",
      "  return f(*args, **kwargs)\n",
      "/home/juhani/miniconda3/envs/tf/lib/python3.9/site-packages/librosa/util/decorators.py:88: UserWarning: PySoundFile failed. Trying audioread instead.\n",
      "  return f(*args, **kwargs)\n",
      "/home/juhani/miniconda3/envs/tf/lib/python3.9/site-packages/librosa/util/decorators.py:88: UserWarning: PySoundFile failed. Trying audioread instead.\n",
      "  return f(*args, **kwargs)\n",
      "/home/juhani/miniconda3/envs/tf/lib/python3.9/site-packages/librosa/util/decorators.py:88: UserWarning: PySoundFile failed. Trying audioread instead.\n",
      "  return f(*args, **kwargs)\n",
      "/home/juhani/miniconda3/envs/tf/lib/python3.9/site-packages/librosa/util/decorators.py:88: UserWarning: PySoundFile failed. Trying audioread instead.\n",
      "  return f(*args, **kwargs)\n",
      "/home/juhani/miniconda3/envs/tf/lib/python3.9/site-packages/librosa/util/decorators.py:88: UserWarning: PySoundFile failed. Trying audioread instead.\n",
      "  return f(*args, **kwargs)\n",
      "/home/juhani/miniconda3/envs/tf/lib/python3.9/site-packages/librosa/util/decorators.py:88: UserWarning: PySoundFile failed. Trying audioread instead.\n",
      "  return f(*args, **kwargs)\n",
      "/home/juhani/miniconda3/envs/tf/lib/python3.9/site-packages/librosa/util/decorators.py:88: UserWarning: PySoundFile failed. Trying audioread instead.\n",
      "  return f(*args, **kwargs)\n",
      "/home/juhani/miniconda3/envs/tf/lib/python3.9/site-packages/librosa/util/decorators.py:88: UserWarning: PySoundFile failed. Trying audioread instead.\n",
      "  return f(*args, **kwargs)\n",
      "/home/juhani/miniconda3/envs/tf/lib/python3.9/site-packages/librosa/util/decorators.py:88: UserWarning: PySoundFile failed. Trying audioread instead.\n",
      "  return f(*args, **kwargs)\n",
      "/home/juhani/miniconda3/envs/tf/lib/python3.9/site-packages/librosa/util/decorators.py:88: UserWarning: PySoundFile failed. Trying audioread instead.\n",
      "  return f(*args, **kwargs)\n",
      "/home/juhani/miniconda3/envs/tf/lib/python3.9/site-packages/librosa/util/decorators.py:88: UserWarning: PySoundFile failed. Trying audioread instead.\n",
      "  return f(*args, **kwargs)\n",
      "/home/juhani/miniconda3/envs/tf/lib/python3.9/site-packages/librosa/util/decorators.py:88: UserWarning: PySoundFile failed. Trying audioread instead.\n",
      "  return f(*args, **kwargs)\n",
      "/home/juhani/miniconda3/envs/tf/lib/python3.9/site-packages/librosa/util/decorators.py:88: UserWarning: PySoundFile failed. Trying audioread instead.\n",
      "  return f(*args, **kwargs)\n",
      "/home/juhani/miniconda3/envs/tf/lib/python3.9/site-packages/librosa/util/decorators.py:88: UserWarning: PySoundFile failed. Trying audioread instead.\n",
      "  return f(*args, **kwargs)\n",
      "/home/juhani/miniconda3/envs/tf/lib/python3.9/site-packages/librosa/util/decorators.py:88: UserWarning: PySoundFile failed. Trying audioread instead.\n",
      "  return f(*args, **kwargs)\n",
      "/home/juhani/miniconda3/envs/tf/lib/python3.9/site-packages/librosa/util/decorators.py:88: UserWarning: PySoundFile failed. Trying audioread instead.\n",
      "  return f(*args, **kwargs)\n",
      "/home/juhani/miniconda3/envs/tf/lib/python3.9/site-packages/librosa/util/decorators.py:88: UserWarning: PySoundFile failed. Trying audioread instead.\n",
      "  return f(*args, **kwargs)\n",
      "/home/juhani/miniconda3/envs/tf/lib/python3.9/site-packages/librosa/util/decorators.py:88: UserWarning: PySoundFile failed. Trying audioread instead.\n",
      "  return f(*args, **kwargs)\n",
      "/home/juhani/miniconda3/envs/tf/lib/python3.9/site-packages/librosa/util/decorators.py:88: UserWarning: PySoundFile failed. Trying audioread instead.\n",
      "  return f(*args, **kwargs)\n"
     ]
    }
   ],
   "source": [
    "car_test_data_path = f\"../Project/audio_project_data/test_data/car/\"\n",
    "tram_test_data_path = f\"../Project/audio_project_data/test_data/tram/\"\n",
    "car_test_data = []\n",
    "tram_test_data = []\n",
    "\n",
    "for file in os.listdir(car_test_data_path):\n",
    "    if file.endswith(\".mp3\"):\n",
    "        audio = AudioSegment.from_mp3(os.path.join(car_test_data_path, file))\n",
    "        wav_file = file.replace(\".mp3\", \"\")\n",
    "        audio.export(os.path.join(car_test_data_path, wav_file), format=\"wav\")\n",
    "\n",
    "for file in os.listdir(tram_test_data_path):\n",
    "    if file.endswith(\".mp3\"):\n",
    "        audio = AudioSegment.from_mp3(os.path.join(tram_test_data_path, file))\n",
    "        wav_file = file.replace(\".mp3\", \"\")\n",
    "        audio.export(os.path.join(tram_test_data_path, wav_file), format=\"wav\")\n",
    "\n",
    "for file in os.listdir(car_test_data_path):\n",
    "    audio, fs = librosa.load(os.path.join(car_test_data_path, file), sr=16000)\n",
    "    #if len(audio) > longest_sample:\n",
    "    #    longest_sample = len(audio)\n",
    "    audio = np.hstack((audio, np.zeros(longest_sample - len(audio))))\n",
    "    mel_spec = librosa.feature.melspectrogram(y=audio, sr=sample_rate, n_fft=512, hop_length=160, n_mels=48, fmax=8000)\n",
    "    mel_spec_db = librosa.power_to_db(mel_spec, ref=np.max).T\n",
    "    mel_spec_db_norm = (mel_spec_db - np.min(mel_spec_db)) / (np.max(mel_spec_db) - np.min(mel_spec_db))\n",
    "    car_test_data.append(mel_spec_db_norm) \n",
    "\n",
    "\n",
    "for file in os.listdir(tram_test_data_path):\n",
    "    audio, fs = librosa.load(os.path.join(tram_test_data_path, file), sr=16000)\n",
    "    #if len(audio) > longest_sample:\n",
    "    #    longest_sample = len(audio)\n",
    "    audio = np.hstack((audio, np.zeros(longest_sample - len(audio))))\n",
    "    mel_spec = librosa.feature.melspectrogram(y=audio, sr=sample_rate, n_fft=512, hop_length=160, n_mels=48, fmax=8000)\n",
    "    mel_spec_db = librosa.power_to_db(mel_spec, ref=np.max).T\n",
    "    mel_spec_db_norm = (mel_spec_db - np.min(mel_spec_db)) / (np.max(mel_spec_db) - np.min(mel_spec_db))\n",
    "    tram_test_data.append(mel_spec_db_norm) \n",
    "\n",
    "#print(longest_sample)"
   ]
  },
  {
   "cell_type": "code",
   "execution_count": null,
   "id": "21cab00c",
   "metadata": {},
   "outputs": [
    {
     "name": "stdout",
     "output_type": "stream",
     "text": [
      "(50, 786, 48)\n",
      "(61, 786, 48)\n"
     ]
    }
   ],
   "source": [
    "print(np.shape(car_test_data))\n",
    "print(np.shape(tram_test_data))\n",
    "car_test_data = np.squeeze(car_test_data)\n",
    "tram_test_data = np.squeeze(tram_test_data)\n",
    "test_pos_labels = np.ones(car_test_data.shape[0])\n",
    "test_neg_labels = 0*np.ones(tram_test_data.shape[0])\n",
    "\n",
    "X_test = np.concatenate((car_test_data, tram_test_data), axis=0)\n",
    "y_test = np.concatenate((test_pos_labels, test_neg_labels), axis=0)\n",
    "y_test = tf.keras.utils.to_categorical(y_test, 2)"
   ]
  },
  {
   "cell_type": "code",
   "execution_count": null,
   "id": "e7ae632c",
   "metadata": {},
   "outputs": [
    {
     "name": "stdout",
     "output_type": "stream",
     "text": [
      "4/4 [==============================] - 0s 23ms/step - loss: 0.6942 - accuracy: 0.4505\n",
      "4/4 [==============================] - 0s 23ms/step\n",
      "true negatives: 0, false negatives: 0, true positives 50, false positives 61\n",
      " Precision: 0.45045045045045046\n",
      " Recall: 1.0\n",
      " F1 score: 0.6211180124223602\n"
     ]
    }
   ],
   "source": [
    "\n",
    "model.evaluate(X_test, y_test, batch_size=32)\n",
    "hypothesis= model.predict(X_test, batch_size=32)\n",
    "y_pred = tf.keras.utils.to_categorical(hypothesis, 2)\n",
    "from sklearn.metrics import confusion_matrix\n",
    "from sklearn.metrics import precision_recall_curve\n",
    "\n",
    "y_true = y_test[:, 1]\n",
    "#fpr, tpr, thresholds = precision_recall_curve(y_true, y_pred)\n",
    "\n",
    "y_pred = np.round(hypothesis[:, 1])\n",
    "CM = confusion_matrix(y_true, y_pred)\n",
    "TN = CM[0][0]\n",
    "FN = CM[1][0]\n",
    "TP = CM[1][1]\n",
    "FP = CM[0][1]\n",
    "Precision = TP/(TP+FP)\n",
    "Recall = TP/(TP+FN)\n",
    "F1_score = 2*((Precision*Recall)/(Precision+Recall))\n",
    "print(f\"true negatives: {TN}, false negatives: {FN}, true positives {TP}, false positives {FP}\")\n",
    "print(f\" Precision: {Precision}\")\n",
    "print(f\" Recall: {Recall}\")\n",
    "print(f\" F1 score: {F1_score}\")"
   ]
  }
 ],
 "metadata": {
  "kernelspec": {
   "display_name": "tf",
   "language": "python",
   "name": "python3"
  },
  "language_info": {
   "codemirror_mode": {
    "name": "ipython",
    "version": 3
   },
   "file_extension": ".py",
   "mimetype": "text/x-python",
   "name": "python",
   "nbconvert_exporter": "python",
   "pygments_lexer": "ipython3",
   "version": "3.9.15"
  },
  "vscode": {
   "interpreter": {
    "hash": "075bc59c32e0580ddb129fc12580429e26eb2d89ad7136b36a6edcf7f8e5ed18"
   }
  }
 },
 "nbformat": 4,
 "nbformat_minor": 5
}
