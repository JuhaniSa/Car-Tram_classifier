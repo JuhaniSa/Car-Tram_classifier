{
 "cells": [
  {
   "cell_type": "code",
   "execution_count": 7,
   "metadata": {},
   "outputs": [
    {
     "name": "stdout",
     "output_type": "stream",
     "text": [
      "1/1 [==============================] - 0s 183ms/step\n",
      "[[3.834071e-04 9.996166e-01]]\n",
      "Car detected\n",
      "Confidence: [0.9996166]\n",
      "1/1 [==============================] - 0s 12ms/step\n",
      "[[9.999944e-01 5.571220e-06]]\n",
      "Tram detected\n",
      "Confidence: [0.9999944]\n"
     ]
    }
   ],
   "source": [
    "import os\n",
    "import sys\n",
    "import pathlib\n",
    "import numpy as np\n",
    "import tensorflow as tf\n",
    "from scipy.io.wavfile import read\n",
    "import wave\n",
    "from sklearn.model_selection import train_test_split\n",
    "import librosa\n",
    "import sounddevice as sd\n",
    "from scipy.io.wavfile import write\n",
    "import matplotlib.pyplot as plt\n",
    "from keras.models import Model\n",
    "from keras.layers import  Conv1D, GRU, Dropout, Input, Dense, Conv2D, Reshape, MaxPooling2D\n",
    "import random\n",
    "from sklearn.metrics import confusion_matrix\n",
    "from sklearn.metrics import roc_curve\n",
    "from scipy import linalg\n",
    "from pydub import AudioSegment\n",
    "\n",
    "\n",
    "model = tf.keras.Model()\n",
    "model = tf.keras.models.load_model('../vehicle_model_1D_CRNN/')\n",
    "longest_sample = 125611\n",
    "\n",
    "for sample in ['car_sample.wav','tram_sample.wav']:\n",
    "        audio, fs = librosa.load(os.path.join('../test_model/', sample), sr=16000)\n",
    "        audio = np.hstack((audio, np.zeros(longest_sample - len(audio))))\n",
    "        mel_spec = librosa.feature.melspectrogram(y=audio, sr=16000, n_fft=512, hop_length=160, n_mels=48, fmax=8000)\n",
    "        mel_spec_db = librosa.power_to_db(mel_spec, ref=np.max).T\n",
    "        mel_spec_db_norm = (mel_spec_db - np.min(mel_spec_db)) / (np.max(mel_spec_db) - np.min(mel_spec_db)).T\n",
    "\n",
    "        prediction = model.predict(np.expand_dims(mel_spec_db_norm.T, axis=0), batch_size=4)\n",
    "        print(prediction)\n",
    "        if prediction[:, 1] > 0.50:\n",
    "                print(f\"Car detected\")\n",
    "                print(\"Confidence:\", prediction[:, 1])\n",
    "        else:\n",
    "                print(f\"Tram detected\")\n",
    "                print(\"Confidence:\", prediction[:, 0])\n",
    "        sd.play(audio,16000)\n",
    "        "
   ]
  }
 ],
 "metadata": {
  "kernelspec": {
   "display_name": "tf",
   "language": "python",
   "name": "python3"
  },
  "language_info": {
   "codemirror_mode": {
    "name": "ipython",
    "version": 3
   },
   "file_extension": ".py",
   "mimetype": "text/x-python",
   "name": "python",
   "nbconvert_exporter": "python",
   "pygments_lexer": "ipython3",
   "version": "3.9.15"
  },
  "orig_nbformat": 4,
  "vscode": {
   "interpreter": {
    "hash": "075bc59c32e0580ddb129fc12580429e26eb2d89ad7136b36a6edcf7f8e5ed18"
   }
  }
 },
 "nbformat": 4,
 "nbformat_minor": 2
}
