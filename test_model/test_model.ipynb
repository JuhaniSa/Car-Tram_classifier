{
 "cells": [
  {
   "cell_type": "code",
   "execution_count": 1,
   "metadata": {},
   "outputs": [],
   "source": [
    "import os\n",
    "import sys\n",
    "import pathlib\n",
    "import numpy as np\n",
    "import tensorflow as tf\n",
    "from tensorflow.keras import layers\n",
    "from tensorflow.keras import models\n",
    "from scipy.io.wavfile import read\n",
    "import wave\n",
    "from sklearn.model_selection import train_test_split\n",
    "import librosa\n",
    "from tensorflow.keras.utils import to_categorical\n",
    "from tensorflow.keras import Sequential\n",
    "import sounddevice as sd\n",
    "from scipy.io.wavfile import write\n",
    "import matplotlib.pyplot as plt\n",
    "from keras.models import Model\n",
    "from keras.layers import  Conv1D, GRU, Dropout, Input, Dense, Conv2D, Reshape, MaxPooling2D\n",
    "import random\n",
    "from sklearn.metrics import confusion_matrix\n",
    "from sklearn.metrics import roc_curve\n",
    "from scipy import linalg\n",
    "from pydub import AudioSegment"
   ]
  },
  {
   "cell_type": "code",
   "execution_count": 2,
   "metadata": {},
   "outputs": [],
   "source": [
    "model = tf.keras.Model()\n",
    "model = tf.keras.models.load_model('../audio_project/vehicle_model/')\n",
    "\n",
    "\n",
    "\n",
    "audio, fs = librosa.load(os.path.join('D:/Koulujutut/audio_project/', 'car_sample.wav'), sr=16000)\n",
    "\n",
    "mel_spec = librosa.feature.melspectrogram(y=audio, sr=sample_rate, n_fft=512, hop_length=160, n_mels=48, fmax=8000)\n",
    "mel_spec_db = librosa.power_to_db(mel_spec, ref=np.max).T\n",
    "mel_spec_db_norm = (mel_spec_db - np.min(mel_spec_db)) / (np.max(mel_spec_db) - np.min(mel_spec_db)).T\n",
    "\n",
    "prediction = model.predict(np.expand_dims(mel_spec_db_norm, axis=0), batch_size=4)\n",
    "print(prediction)\n",
    "if prediction[:, 1] > 0.50:\n",
    "        print(f\"Car detected\")\n",
    "        print(\"Confidence:\", prediction[:, 1])\n",
    "else:\n",
    "        print(f\"Tram detected\")\n",
    "        print(\"Confidence:\", prediction[:, 0])\n",
    "        "
   ]
  }
 ],
 "metadata": {
  "kernelspec": {
   "display_name": "simonenv",
   "language": "python",
   "name": "python3"
  },
  "language_info": {
   "codemirror_mode": {
    "name": "ipython",
    "version": 3
   },
   "file_extension": ".py",
   "mimetype": "text/x-python",
   "name": "python",
   "nbconvert_exporter": "python",
   "pygments_lexer": "ipython3",
   "version": "3.8.8 (default, Apr 13 2021, 15:08:03) [MSC v.1916 64 bit (AMD64)]"
  },
  "orig_nbformat": 4,
  "vscode": {
   "interpreter": {
    "hash": "b56f1b3a6d6afca52045dc1cf1c32bf41833c6c652aa768c9e1086681c1a5dc6"
   }
  }
 },
 "nbformat": 4,
 "nbformat_minor": 2
}
